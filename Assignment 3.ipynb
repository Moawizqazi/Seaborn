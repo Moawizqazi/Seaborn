{
 "cells": [
  {
   "cell_type": "code",
   "execution_count": 1,
   "id": "48ea10dd",
   "metadata": {},
   "outputs": [],
   "source": [
    "# Import seaborn\n",
    "import warnings\n",
    "warnings.filterwarnings('ignore')\n",
    "import seaborn as sns\n",
    "import pandas as pd\n",
    "import numpy as np\n",
    "import matplotlib.pyplot as plt"
   ]
  },
  {
   "cell_type": "markdown",
   "id": "6179db7f",
   "metadata": {},
   "source": [
    "# Task 1"
   ]
  },
  {
   "cell_type": "markdown",
   "id": "de6547dd",
   "metadata": {},
   "source": [
    "### 1. Use Pandas to load in the data from results.csv and save it to the variable df"
   ]
  },
  {
   "cell_type": "code",
   "execution_count": 21,
   "id": "26ed137a",
   "metadata": {},
   "outputs": [
    {
     "name": "stdout",
     "output_type": "stream",
     "text": [
      "<class 'pandas.core.frame.DataFrame'>\n",
      "RangeIndex: 3 entries, 0 to 2\n",
      "Data columns (total 2 columns):\n",
      " #   Column             Non-Null Count  Dtype  \n",
      "---  ------             --------------  -----  \n",
      " 0   Gender             3 non-null      object \n",
      " 1   Mean Satisfaction  3 non-null      float64\n",
      "dtypes: float64(1), object(1)\n",
      "memory usage: 176.0+ bytes\n"
     ]
    },
    {
     "data": {
      "text/html": [
       "<div>\n",
       "<style scoped>\n",
       "    .dataframe tbody tr th:only-of-type {\n",
       "        vertical-align: middle;\n",
       "    }\n",
       "\n",
       "    .dataframe tbody tr th {\n",
       "        vertical-align: top;\n",
       "    }\n",
       "\n",
       "    .dataframe thead th {\n",
       "        text-align: right;\n",
       "    }\n",
       "</style>\n",
       "<table border=\"1\" class=\"dataframe\">\n",
       "  <thead>\n",
       "    <tr style=\"text-align: right;\">\n",
       "      <th></th>\n",
       "      <th>Gender</th>\n",
       "      <th>Mean Satisfaction</th>\n",
       "    </tr>\n",
       "  </thead>\n",
       "  <tbody>\n",
       "    <tr>\n",
       "      <th>0</th>\n",
       "      <td>Male</td>\n",
       "      <td>7.2</td>\n",
       "    </tr>\n",
       "    <tr>\n",
       "      <th>1</th>\n",
       "      <td>Female</td>\n",
       "      <td>8.1</td>\n",
       "    </tr>\n",
       "    <tr>\n",
       "      <th>2</th>\n",
       "      <td>Non-binary</td>\n",
       "      <td>6.8</td>\n",
       "    </tr>\n",
       "  </tbody>\n",
       "</table>\n",
       "</div>"
      ],
      "text/plain": [
       "       Gender  Mean Satisfaction\n",
       "0        Male                7.2\n",
       "1      Female                8.1\n",
       "2  Non-binary                6.8"
      ]
     },
     "execution_count": 21,
     "metadata": {},
     "output_type": "execute_result"
    }
   ],
   "source": [
    "df1 = pd.read_csv(\"results.csv\")\n",
    "df1.info()\n",
    "df1.head()"
   ]
  },
  {
   "cell_type": "markdown",
   "id": "addb3684",
   "metadata": {},
   "source": [
    "### 2. Display df using print\n"
   ]
  },
  {
   "cell_type": "code",
   "execution_count": 8,
   "id": "1c003c6c",
   "metadata": {},
   "outputs": [
    {
     "name": "stdout",
     "output_type": "stream",
     "text": [
      "       Gender  Mean Satisfaction\n",
      "0        Male                7.2\n",
      "1      Female                8.1\n",
      "2  Non-binary                6.8\n"
     ]
    }
   ],
   "source": [
    "print(df1)"
   ]
  },
  {
   "cell_type": "markdown",
   "id": "3cc3e0d3",
   "metadata": {},
   "source": [
    "### 3. Type plt.show() to display the completed bar plot.\n"
   ]
  },
  {
   "cell_type": "code",
   "execution_count": 22,
   "id": "8b7738d7",
   "metadata": {},
   "outputs": [
    {
     "data": {
      "image/png": "[encoded data removed]",
      "text/plain": [
       "<Figure size 432x288 with 1 Axes>"
      ]
     },
     "metadata": {
      "needs_background": "light"
     },
     "output_type": "display_data"
    }
   ],
   "source": [
    "sns.barplot(data=df1, x=\"Gender\", y=\"Mean Satisfaction\")\n",
    "plt.show()"
   ]
  },
  {
   "cell_type": "markdown",
   "id": "8c807130",
   "metadata": {},
   "source": [
    "# Task 2"
   ]
  },
  {
   "cell_type": "markdown",
   "id": "dd97259c",
   "metadata": {},
   "source": [
    "### 1.The DataFrame gradebook contains the complete gradebook for a hypothetical classroom. Use print to examine gradebook.\n"
   ]
  },
  {
   "cell_type": "code",
   "execution_count": 69,
   "id": "b9b426ea",
   "metadata": {},
   "outputs": [
    {
     "data": {
      "text/html": [
       "<div>\n",
       "<style scoped>\n",
       "    .dataframe tbody tr th:only-of-type {\n",
       "        vertical-align: middle;\n",
       "    }\n",
       "\n",
       "    .dataframe tbody tr th {\n",
       "        vertical-align: top;\n",
       "    }\n",
       "\n",
       "    .dataframe thead th {\n",
       "        text-align: right;\n",
       "    }\n",
       "</style>\n",
       "<table border=\"1\" class=\"dataframe\">\n",
       "  <thead>\n",
       "    <tr style=\"text-align: right;\">\n",
       "      <th></th>\n",
       "      <th>student</th>\n",
       "      <th>assignment_name</th>\n",
       "      <th>grade</th>\n",
       "    </tr>\n",
       "  </thead>\n",
       "  <tbody>\n",
       "    <tr>\n",
       "      <th>0</th>\n",
       "      <td>Amy</td>\n",
       "      <td>Assignment 1</td>\n",
       "      <td>75</td>\n",
       "    </tr>\n",
       "    <tr>\n",
       "      <th>1</th>\n",
       "      <td>Amy</td>\n",
       "      <td>Assignment 2</td>\n",
       "      <td>82</td>\n",
       "    </tr>\n",
       "    <tr>\n",
       "      <th>2</th>\n",
       "      <td>Bob</td>\n",
       "      <td>Assignment 1</td>\n",
       "      <td>99</td>\n",
       "    </tr>\n",
       "    <tr>\n",
       "      <th>3</th>\n",
       "      <td>Bob</td>\n",
       "      <td>Assignment 2</td>\n",
       "      <td>90</td>\n",
       "    </tr>\n",
       "    <tr>\n",
       "      <th>4</th>\n",
       "      <td>Chris</td>\n",
       "      <td>Assignment 1</td>\n",
       "      <td>72</td>\n",
       "    </tr>\n",
       "    <tr>\n",
       "      <th>5</th>\n",
       "      <td>Chris</td>\n",
       "      <td>Assignment 2</td>\n",
       "      <td>66</td>\n",
       "    </tr>\n",
       "    <tr>\n",
       "      <th>6</th>\n",
       "      <td>Dan</td>\n",
       "      <td>Assignment 1</td>\n",
       "      <td>88</td>\n",
       "    </tr>\n",
       "    <tr>\n",
       "      <th>7</th>\n",
       "      <td>Dan</td>\n",
       "      <td>Assignment 2</td>\n",
       "      <td>82</td>\n",
       "    </tr>\n",
       "    <tr>\n",
       "      <th>8</th>\n",
       "      <td>Ellie</td>\n",
       "      <td>Assignment 1</td>\n",
       "      <td>91</td>\n",
       "    </tr>\n",
       "    <tr>\n",
       "      <th>9</th>\n",
       "      <td>Ellie</td>\n",
       "      <td>Assignment 2</td>\n",
       "      <td>85</td>\n",
       "    </tr>\n",
       "  </tbody>\n",
       "</table>\n",
       "</div>"
      ],
      "text/plain": [
       "  student assignment_name  grade\n",
       "0     Amy    Assignment 1     75\n",
       "1     Amy    Assignment 2     82\n",
       "2     Bob    Assignment 1     99\n",
       "3     Bob    Assignment 2     90\n",
       "4   Chris    Assignment 1     72\n",
       "5   Chris    Assignment 2     66\n",
       "6     Dan    Assignment 1     88\n",
       "7     Dan    Assignment 2     82\n",
       "8   Ellie    Assignment 1     91\n",
       "9   Ellie    Assignment 2     85"
      ]
     },
     "execution_count": 69,
     "metadata": {},
     "output_type": "execute_result"
    }
   ],
   "source": [
    "gradebook = pd.read_csv(\"gradebook.csv\")\n",
    "gradebook"
   ]
  },
  {
   "cell_type": "markdown",
   "id": "b00b66de",
   "metadata": {},
   "source": [
    "### 2.Select all rows from the gradebook DataFrame where assignment_name is equal to Assignment 1. Save the result to the variable assignment1. Print assignment1.\n"
   ]
  },
  {
   "cell_type": "code",
   "execution_count": 58,
   "id": "7991dde3",
   "metadata": {},
   "outputs": [
    {
     "data": {
      "text/html": [
       "<div>\n",
       "<style scoped>\n",
       "    .dataframe tbody tr th:only-of-type {\n",
       "        vertical-align: middle;\n",
       "    }\n",
       "\n",
       "    .dataframe tbody tr th {\n",
       "        vertical-align: top;\n",
       "    }\n",
       "\n",
       "    .dataframe thead th {\n",
       "        text-align: right;\n",
       "    }\n",
       "</style>\n",
       "<table border=\"1\" class=\"dataframe\">\n",
       "  <thead>\n",
       "    <tr style=\"text-align: right;\">\n",
       "      <th></th>\n",
       "      <th>assignment_name</th>\n",
       "      <th>student</th>\n",
       "      <th>grade</th>\n",
       "    </tr>\n",
       "  </thead>\n",
       "  <tbody>\n",
       "    <tr>\n",
       "      <th>0</th>\n",
       "      <td>Assignment 1</td>\n",
       "      <td>Amy</td>\n",
       "      <td>75</td>\n",
       "    </tr>\n",
       "    <tr>\n",
       "      <th>1</th>\n",
       "      <td>Assignment 1</td>\n",
       "      <td>Bob</td>\n",
       "      <td>99</td>\n",
       "    </tr>\n",
       "    <tr>\n",
       "      <th>2</th>\n",
       "      <td>Assignment 1</td>\n",
       "      <td>Chris</td>\n",
       "      <td>72</td>\n",
       "    </tr>\n",
       "    <tr>\n",
       "      <th>3</th>\n",
       "      <td>Assignment 1</td>\n",
       "      <td>Dan</td>\n",
       "      <td>88</td>\n",
       "    </tr>\n",
       "    <tr>\n",
       "      <th>4</th>\n",
       "      <td>Assignment 1</td>\n",
       "      <td>Ellie</td>\n",
       "      <td>91</td>\n",
       "    </tr>\n",
       "  </tbody>\n",
       "</table>\n",
       "</div>"
      ],
      "text/plain": [
       "  assignment_name student  grade\n",
       "0    Assignment 1     Amy     75\n",
       "1    Assignment 1     Bob     99\n",
       "2    Assignment 1   Chris     72\n",
       "3    Assignment 1     Dan     88\n",
       "4    Assignment 1   Ellie     91"
      ]
     },
     "metadata": {},
     "output_type": "display_data"
    }
   ],
   "source": [
    "df2 = pd.read_csv(\"gradebook.csv\",index_col=\"assignment_name\")\n",
    "Assigment1 = df2.loc[\"Assignment 1\"].reset_index()\n",
    "  \n",
    "display(Assigment1)"
   ]
  },
  {
   "cell_type": "markdown",
   "id": "1889495e",
   "metadata": {},
   "source": [
    "### 3.Now use Numpy to calculate the median grade in assignment1. Use np.median() to calculate the median of the column grade from assignment1 and save it to asn1_median.\n"
   ]
  },
  {
   "cell_type": "code",
   "execution_count": 65,
   "id": "50abe7c5",
   "metadata": {},
   "outputs": [
    {
     "data": {
      "image/png": "[encoded data removed]",
      "text/plain": [
       "<Figure size 432x288 with 1 Axes>"
      ]
     },
     "metadata": {
      "needs_background": "light"
     },
     "output_type": "display_data"
    }
   ],
   "source": [
    "sns.barplot(data=df2, x=\"student\", y='grade',estimator=np.median)\n",
    "plt.show()"
   ]
  },
  {
   "cell_type": "markdown",
   "id": "9f33ae94",
   "metadata": {},
   "source": [
    "# Task 3"
   ]
  },
  {
   "cell_type": "markdown",
   "id": "468ed833",
   "metadata": {},
   "source": [
    "### Use Seaborn to plot the average grade for each assignment. Take a look at gradebook.csv for the column names"
   ]
  },
  {
   "cell_type": "code",
   "execution_count": 67,
   "id": "f49df502",
   "metadata": {},
   "outputs": [
    {
     "data": {
      "text/plain": [
       "85.0"
      ]
     },
     "execution_count": 67,
     "metadata": {},
     "output_type": "execute_result"
    }
   ],
   "source": [
    "Assigment1 = (75+99+72+88+91)/5\n",
    "Assigment1"
   ]
  },
  {
   "cell_type": "code",
   "execution_count": 68,
   "id": "bfd7f6ee",
   "metadata": {},
   "outputs": [
    {
     "data": {
      "text/plain": [
       "81.0"
      ]
     },
     "execution_count": 68,
     "metadata": {},
     "output_type": "execute_result"
    }
   ],
   "source": [
    "Assigment2 = (82+90+66+82+85)/5\n",
    "Assigment2"
   ]
  },
  {
   "cell_type": "code",
   "execution_count": 70,
   "id": "fcfeb450",
   "metadata": {},
   "outputs": [
    {
     "data": {
      "image/png": "[encoded data removed]",
      "text/plain": [
       "<Figure size 432x288 with 1 Axes>"
      ]
     },
     "metadata": {
      "needs_background": "light"
     },
     "output_type": "display_data"
    }
   ],
   "source": [
    "sns.barplot(data=gradebook, x=\"assignment_name\", y='grade',estimator=np.median)\n",
    "plt.show()"
   ]
  },
  {
   "cell_type": "markdown",
   "id": "4ab5b67a",
   "metadata": {},
   "source": [
    "# Task 4"
   ]
  },
  {
   "cell_type": "markdown",
   "id": "a026a0e3",
   "metadata": {},
   "source": [
    "### Modify the bar plot so that the error bars represent one standard deviation, rather than 95% confidence intervals.\n"
   ]
  },
  {
   "cell_type": "code",
   "execution_count": 72,
   "id": "ac65e51a",
   "metadata": {},
   "outputs": [
    {
     "data": {
      "image/png": "[encoded data removed]",
      "text/plain": [
       "<Figure size 432x288 with 1 Axes>"
      ]
     },
     "metadata": {
      "needs_background": "light"
     },
     "output_type": "display_data"
    }
   ],
   "source": [
    "gradebook = pd.read_csv(\"gradebook.csv\")\n",
    "\n",
    "sns.barplot(data=gradebook, x=\"student\", y=\"grade\", ci=\"sd\")\n",
    "plt.show()\n"
   ]
  },
  {
   "cell_type": "markdown",
   "id": "e6efe116",
   "metadata": {},
   "source": [
    "# Task 5:\n"
   ]
  },
  {
   "cell_type": "markdown",
   "id": "0c501091",
   "metadata": {},
   "source": [
    "### 1. Consider our hospital satisfaction survey data, which is loaded into the Pandas DataFrame df. Use print to examine the data.\n"
   ]
  },
  {
   "cell_type": "code",
   "execution_count": 74,
   "id": "099307ca",
   "metadata": {},
   "outputs": [
    {
     "data": {
      "text/html": [
       "<div>\n",
       "<style scoped>\n",
       "    .dataframe tbody tr th:only-of-type {\n",
       "        vertical-align: middle;\n",
       "    }\n",
       "\n",
       "    .dataframe tbody tr th {\n",
       "        vertical-align: top;\n",
       "    }\n",
       "\n",
       "    .dataframe thead th {\n",
       "        text-align: right;\n",
       "    }\n",
       "</style>\n",
       "<table border=\"1\" class=\"dataframe\">\n",
       "  <thead>\n",
       "    <tr style=\"text-align: right;\">\n",
       "      <th></th>\n",
       "      <th>Patient ID</th>\n",
       "      <th>Gender</th>\n",
       "      <th>Age Range</th>\n",
       "      <th>Response</th>\n",
       "    </tr>\n",
       "  </thead>\n",
       "  <tbody>\n",
       "    <tr>\n",
       "      <th>0</th>\n",
       "      <td>3951</td>\n",
       "      <td>Female</td>\n",
       "      <td>18 - 25</td>\n",
       "      <td>3</td>\n",
       "    </tr>\n",
       "    <tr>\n",
       "      <th>1</th>\n",
       "      <td>889</td>\n",
       "      <td>Male</td>\n",
       "      <td>18 - 25</td>\n",
       "      <td>5</td>\n",
       "    </tr>\n",
       "    <tr>\n",
       "      <th>2</th>\n",
       "      <td>2115</td>\n",
       "      <td>Female</td>\n",
       "      <td>18 - 25</td>\n",
       "      <td>4</td>\n",
       "    </tr>\n",
       "    <tr>\n",
       "      <th>3</th>\n",
       "      <td>3314</td>\n",
       "      <td>Female</td>\n",
       "      <td>18 - 25</td>\n",
       "      <td>2</td>\n",
       "    </tr>\n",
       "    <tr>\n",
       "      <th>4</th>\n",
       "      <td>5407</td>\n",
       "      <td>Male</td>\n",
       "      <td>18 - 25</td>\n",
       "      <td>6</td>\n",
       "    </tr>\n",
       "    <tr>\n",
       "      <th>...</th>\n",
       "      <td>...</td>\n",
       "      <td>...</td>\n",
       "      <td>...</td>\n",
       "      <td>...</td>\n",
       "    </tr>\n",
       "    <tr>\n",
       "      <th>75</th>\n",
       "      <td>6633</td>\n",
       "      <td>Female</td>\n",
       "      <td>45+</td>\n",
       "      <td>9</td>\n",
       "    </tr>\n",
       "    <tr>\n",
       "      <th>76</th>\n",
       "      <td>8337</td>\n",
       "      <td>Male</td>\n",
       "      <td>45+</td>\n",
       "      <td>9</td>\n",
       "    </tr>\n",
       "    <tr>\n",
       "      <th>77</th>\n",
       "      <td>6878</td>\n",
       "      <td>Female</td>\n",
       "      <td>45+</td>\n",
       "      <td>9</td>\n",
       "    </tr>\n",
       "    <tr>\n",
       "      <th>78</th>\n",
       "      <td>8721</td>\n",
       "      <td>Female</td>\n",
       "      <td>45+</td>\n",
       "      <td>7</td>\n",
       "    </tr>\n",
       "    <tr>\n",
       "      <th>79</th>\n",
       "      <td>1479</td>\n",
       "      <td>Female</td>\n",
       "      <td>45+</td>\n",
       "      <td>11</td>\n",
       "    </tr>\n",
       "  </tbody>\n",
       "</table>\n",
       "<p>80 rows × 4 columns</p>\n",
       "</div>"
      ],
      "text/plain": [
       "    Patient ID  Gender Age Range  Response\n",
       "0         3951  Female   18 - 25         3\n",
       "1          889    Male   18 - 25         5\n",
       "2         2115  Female   18 - 25         4\n",
       "3         3314  Female   18 - 25         2\n",
       "4         5407    Male   18 - 25         6\n",
       "..         ...     ...       ...       ...\n",
       "75        6633  Female       45+         9\n",
       "76        8337    Male       45+         9\n",
       "77        6878  Female       45+         9\n",
       "78        8721  Female       45+         7\n",
       "79        1479  Female       45+        11\n",
       "\n",
       "[80 rows x 4 columns]"
      ]
     },
     "execution_count": 74,
     "metadata": {},
     "output_type": "execute_result"
    }
   ],
   "source": [
    "df = pd.read_csv(\"survey.csv\")\n",
    "df"
   ]
  },
  {
   "cell_type": "markdown",
   "id": "cc886a9c",
   "metadata": {},
   "source": [
    "### 2. We’d like to know how many men and women answered the survey. "
   ]
  },
  {
   "cell_type": "code",
   "execution_count": 76,
   "id": "0a370583",
   "metadata": {},
   "outputs": [
    {
     "data": {
      "image/png": "[encoded data removed]",
      "text/plain": [
       "<Figure size 432x288 with 1 Axes>"
      ]
     },
     "metadata": {
      "needs_background": "light"
     },
     "output_type": "display_data"
    }
   ],
   "source": [
    "sns.barplot(data=df, x=\"Gender\", y=\"Response\")\n",
    "plt.show()"
   ]
  },
  {
   "cell_type": "markdown",
   "id": "6e719462",
   "metadata": {},
   "source": [
    "### 3.Change sns.barplot() to graph the median Response aggregated by Gender using estimator=np.median.\n"
   ]
  },
  {
   "cell_type": "code",
   "execution_count": 78,
   "id": "7e6ded6e",
   "metadata": {},
   "outputs": [
    {
     "data": {
      "image/png": "[encoded data removed]",
      "text/plain": [
       "<Figure size 432x288 with 1 Axes>"
      ]
     },
     "metadata": {
      "needs_background": "light"
     },
     "output_type": "display_data"
    }
   ],
   "source": [
    "sns.barplot(data=df, x=\"Gender\", y=\"Response\"  ,estimator=np.median)\n",
    "plt.show()"
   ]
  },
  {
   "cell_type": "markdown",
   "id": "13818ac4",
   "metadata": {},
   "source": [
    "### We can compare both the Gender and Age Range factors at once by using the keyword hue. \n"
   ]
  },
  {
   "cell_type": "code",
   "execution_count": 79,
   "id": "c10cbff1",
   "metadata": {},
   "outputs": [
    {
     "data": {
      "image/png": "[encoded data removed]",
      "text/plain": [
       "<Figure size 432x288 with 1 Axes>"
      ]
     },
     "metadata": {
      "needs_background": "light"
     },
     "output_type": "display_data"
    }
   ],
   "source": [
    "df = pd.read_csv(\"survey.csv\")\n",
    "\n",
    "sns.barplot(data=df,\n",
    "            x=\"Age Range\",\n",
    "            y=\"Response\",\n",
    "            hue=\"Gender\")\n",
    "\n",
    "plt.show()\n"
   ]
  },
  {
   "cell_type": "markdown",
   "id": "8c8e1d90",
   "metadata": {},
   "source": [
    "# Task 5"
   ]
  },
  {
   "cell_type": "markdown",
   "id": "38ee2775",
   "metadata": {},
   "source": [
    "## KDE Plots\n"
   ]
  },
  {
   "cell_type": "code",
   "execution_count": 80,
   "id": "183bd212",
   "metadata": {},
   "outputs": [
    {
     "data": {
      "image/png": "[encoded data removed]",
      "text/plain": [
       "<Figure size 432x288 with 1 Axes>"
      ]
     },
     "metadata": {},
     "output_type": "display_data"
    }
   ],
   "source": [
    "n = 500\n",
    "dataset1 = np.genfromtxt(\"dataset1.csv\", delimiter=\",\")\n",
    "dataset2 = np.genfromtxt(\"dataset2.csv\", delimiter=\",\")\n",
    "dataset3 = np.genfromtxt(\"dataset3.csv\", delimiter=\",\")\n",
    "df = pd.DataFrame({\n",
    "    \"label\": [\"set_one\"] * n + [\"set_two\"] * n + [\"set_three\"] * n,\n",
    "    \"value\": np.concatenate([dataset1, dataset2, dataset3])\n",
    "})\n",
    "\n",
    "sns.set()\n",
    "sns.barplot(data=df, x='label', y='value')\n",
    "plt.show()\n"
   ]
  },
  {
   "cell_type": "code",
   "execution_count": 81,
   "id": "81985d33",
   "metadata": {},
   "outputs": [
    {
     "data": {
      "image/png": "[encoded data removed]",
      "text/plain": [
       "<Figure size 432x288 with 1 Axes>"
      ]
     },
     "metadata": {},
     "output_type": "display_data"
    }
   ],
   "source": [
    "sns.kdeplot(dataset1, shade=True, label=\"dataset1\")\n",
    "sns.kdeplot(dataset2, shade=True, label=\"dataset2\")\n",
    "sns.kdeplot(dataset3, shade=True, label=\"dataset3\")\n",
    "\n",
    "plt.legend()\n",
    "plt.show()\n"
   ]
  },
  {
   "cell_type": "markdown",
   "id": "64206802",
   "metadata": {},
   "source": [
    "# lineplot():\n"
   ]
  },
  {
   "cell_type": "code",
   "execution_count": 82,
   "id": "0810b100",
   "metadata": {},
   "outputs": [
    {
     "data": {
      "text/plain": [
       "<seaborn.axisgrid.FacetGrid at 0x1fbdfff7fa0>"
      ]
     },
     "execution_count": 82,
     "metadata": {},
     "output_type": "execute_result"
    },
    {
     "data": {
      "image/png": "[encoded data removed]",
      "text/plain": [
       "<Figure size 360x360 with 1 Axes>"
      ]
     },
     "metadata": {},
     "output_type": "display_data"
    }
   ],
   "source": [
    "a=pd.DataFrame({'Day':[1,2,3,4,5,6,7],'Grocery':[30,80,45,23,51,46,76],\n",
    "                'Clothes':[13,40,34,23,54,67,98],\n",
    "                'Utensils':[12,32,27,56,87,54,34]},index=[1,2,3,4,5,6,7])\n",
    "\n",
    "sns.relplot(x=\"Day\", y=\"Clothes\", kind=\"line\", data=a)\n"
   ]
  },
  {
   "cell_type": "markdown",
   "id": "1ef8cfac",
   "metadata": {},
   "source": [
    "# Plotting with Categorical Data:\n"
   ]
  },
  {
   "cell_type": "code",
   "execution_count": 83,
   "id": "ea9a4c31",
   "metadata": {},
   "outputs": [
    {
     "data": {
      "image/png": "[encoded data removed]",
      "text/plain": [
       "<Figure size 360x360 with 1 Axes>"
      ]
     },
     "metadata": {},
     "output_type": "display_data"
    }
   ],
   "source": [
    "sns.set(style=\"ticks\", color_codes=True)\n",
    "a = sns.load_dataset(\"tips\")\n",
    "sns.catplot(x=\"day\", y=\"total_bill\", data=a);\n"
   ]
  },
  {
   "cell_type": "code",
   "execution_count": 84,
   "id": "e5e03514",
   "metadata": {},
   "outputs": [
    {
     "data": {
      "image/png": "[encoded data removed]",
      "text/plain": [
       "<Figure size 360x360 with 1 Axes>"
      ]
     },
     "metadata": {},
     "output_type": "display_data"
    }
   ],
   "source": [
    "sns.set(style=\"ticks\", color_codes=True)\n",
    "a = sns.load_dataset(\"tips\")\n",
    "sns.catplot(x=\"day\", y=\"total_bill\", kind=\"violin\", data=a);\n"
   ]
  },
  {
   "cell_type": "code",
   "execution_count": null,
   "id": "55e92fa9",
   "metadata": {},
   "outputs": [],
   "source": []
  }
 ],
 "metadata": {
  "kernelspec": {
   "display_name": "Python 3 (ipykernel)",
   "language": "python",
   "name": "python3"
  },
  "language_info": {
   "codemirror_mode": {
    "name": "ipython",
    "version": 3
   },
   "file_extension": ".py",
   "mimetype": "text/x-python",
   "name": "python",
   "nbconvert_exporter": "python",
   "pygments_lexer": "ipython3",
   "version": "3.9.12"
  }
 },
 "nbformat": 4,
 "nbformat_minor": 5
}
